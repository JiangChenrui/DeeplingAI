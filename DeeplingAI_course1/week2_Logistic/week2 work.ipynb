{
 "cells": [
  {
   "cell_type": "code",
   "execution_count": 1,
   "metadata": {
    "collapsed": true
   },
   "outputs": [],
   "source": [
    "import numpy as np\n",
    "import matplotlib.pyplot as plt\n",
    "import h5py\n",
    "   \n",
    "def load_dataset():\n",
    "    train_dataset = h5py.File('datasets/train_catvnoncat.h5', \"r\")# 训练集位置\n",
    "    train_set_x_orig = np.array(train_dataset[\"train_set_x\"][:]) # 提取训练集特征数据\n",
    "    train_set_y_orig = np.array(train_dataset[\"train_set_y\"][:]) # 提取训练集标签\n",
    "\n",
    "    test_dataset = h5py.File('datasets/test_catvnoncat.h5', \"r\") #测试集位置\n",
    "    test_set_x_orig = np.array(test_dataset[\"test_set_x\"][:]) # 提取测试集特征数据\n",
    "    test_set_y_orig = np.array(test_dataset[\"test_set_y\"][:]) # 提取测试集标签\n",
    "\n",
    "    classes = np.array(test_dataset[\"list_classes\"][:]) # 类别信息，0表示不是猫，1表示是猫\n",
    "    train_set_y_orig = train_set_y_orig.reshape((1, train_set_y_orig.shape[0])) #将标签的行向量转换为列向量\n",
    "    test_set_y_orig = test_set_y_orig.reshape((1, test_set_y_orig.shape[0])) \n",
    "    \n",
    "    return train_set_x_orig, train_set_y_orig, test_set_x_orig, test_set_y_orig, classes"
   ]
  },
  {
   "cell_type": "code",
   "execution_count": 2,
   "metadata": {},
   "outputs": [
    {
     "name": "stdout",
     "output_type": "stream",
     "text": [
      "train_set_y=[[0 0 1 0 0 0 0 1 0 0 0 1 0 1 1 0 0 0 0 1 0 0 0 0 1 1 0 1 0 1 0 0 0 0 0 0 0\n",
      "  0 1 0 0 1 1 0 0 0 0 1 0 0 1 0 0 0 1 0 1 1 0 1 1 1 0 0 0 0 0 0 1 0 0 1 0 0\n",
      "  0 0 0 0 0 0 0 0 0 1 1 0 0 0 1 0 0 0 1 1 1 0 0 1 0 0 0 0 1 0 1 0 1 1 1 1 1\n",
      "  1 0 0 0 0 0 1 0 0 0 1 0 0 1 0 1 0 1 1 0 0 0 1 1 1 1 1 0 0 0 0 1 0 1 1 1 0\n",
      "  1 1 0 0 0 1 0 0 1 0 0 0 0 0 1 0 1 0 1 0 0 1 1 1 0 0 1 1 0 1 0 1 0 0 0 0 0\n",
      "  1 0 0 1 0 0 0 1 0 0 0 0 1 0 0 1 0 0 0 0 0 0 0 0]]\n"
     ]
    }
   ],
   "source": [
    "# 查看第26张图片是什么样的\n",
    "train_set_x_orig, train_set_y, test_set_x_orig, test_set_y, classes = load_dataset()\n",
    "index = 25\n",
    "plt.imshow(train_set_x_orig[index])\n",
    "print(\"train_set_y=\"+str(train_set_y)) #查看标签类型"
   ]
  },
  {
   "cell_type": "code",
   "execution_count": 3,
   "metadata": {},
   "outputs": [
    {
     "name": "stdout",
     "output_type": "stream",
     "text": [
      "【使用np.squeeze：1，不使用np.squeeze： [1]】\n",
      "y=[1], it's a cat' picture\n"
     ]
    }
   ],
   "source": [
    "'''打印出当前训练图片的标签类型，np.squeeze的作用是压缩维度，train_set_y[:,index]的值为[1],压缩后变为1，然后才能进行解码，'''\n",
    "print(\"【使用np.squeeze：\" + str(np.squeeze(train_set_y[:,index])) + \"，不使用np.squeeze： \" + str(train_set_y[:,index]) + \"】\")\n",
    "print(\"y=\" + str(train_set_y[:,index]) + \", it's a \" + classes[np.squeeze(train_set_y[:,index])].decode(\"utf-8\") + \"' picture\")"
   ]
  },
  {
   "cell_type": "code",
   "execution_count": 7,
   "metadata": {},
   "outputs": [
    {
     "name": "stdout",
     "output_type": "stream",
     "text": [
      "训练集的数量: m_train = 209\n",
      "测试集的数量 : m_test = 50\n",
      "每张图片的宽/高 : num_px = 64\n",
      "每张图片的大小 : (64, 64, 3)\n",
      "训练集_图片的维数 : (209, 64, 64, 3)\n",
      "训练集_标签的维数 : (1, 209)\n",
      "测试集_图片的维数: (50, 64, 64, 3)\n",
      "测试集_标签的维数: (1, 50)\n"
     ]
    }
   ],
   "source": [
    "# train_set_x_orig是一个维度为(m_train, num_px, numpx, 3)的数组\n",
    "m_train = train_set_y.shape[1] #训练集图片数量\n",
    "m_test = test_set_y.shape[1] #测试集图片数量\n",
    "num_px = train_set_x_orig.shape[1] #训练、测试集图片大小都为64x64\n",
    "\n",
    "#现在看一看我们加载的东西的具体情况\n",
    "print (\"训练集的数量: m_train = \" + str(m_train))\n",
    "print (\"测试集的数量 : m_test = \" + str(m_test))\n",
    "print (\"每张图片的宽/高 : num_px = \" + str(num_px))\n",
    "print (\"每张图片的大小 : (\" + str(num_px) + \", \" + str(num_px) + \", 3)\")\n",
    "print (\"训练集_图片的维数 : \" + str(train_set_x_orig.shape))\n",
    "print (\"训练集_标签的维数 : \" + str(train_set_y.shape))\n",
    "print (\"测试集_图片的维数: \" + str(test_set_x_orig.shape))\n",
    "print (\"测试集_标签的维数: \" + str(test_set_y.shape))"
   ]
  },
  {
   "cell_type": "code",
   "execution_count": 8,
   "metadata": {
    "collapsed": true
   },
   "outputs": [],
   "source": [
    "'''\n",
    "这次我们需要将训练集的维度从（209， 64， 64， 3）转换为（64*64*3， 209）的格式，首先使用reshape压缩维度，然后用.T进行转置\n",
    "'''\n",
    "# 转置训练集\n",
    "train_set_x_flatten = train_set_x_orig.reshape(train_set_x_orig.shape[0], -1).T\n",
    "# 转置测试集\n",
    "test_set_x_flatten = test_set_x_orig.reshape(test_set_x_orig.shape[0], -1).T"
   ]
  },
  {
   "cell_type": "code",
   "execution_count": 9,
   "metadata": {},
   "outputs": [
    {
     "name": "stdout",
     "output_type": "stream",
     "text": [
      "训练集降维最后的维度： (12288, 209)\n",
      "训练集_标签的维数 : (1, 209)\n",
      "测试集降维之后的维度: (12288, 50)\n",
      "测试集_标签的维数 : (1, 50)\n"
     ]
    }
   ],
   "source": [
    "print (\"训练集降维最后的维度： \" + str(train_set_x_flatten.shape))\n",
    "print (\"训练集_标签的维数 : \" + str(train_set_y.shape))\n",
    "print (\"测试集降维之后的维度: \" + str(test_set_x_flatten.shape))\n",
    "print (\"测试集_标签的维数 : \" + str(test_set_y.shape))"
   ]
  },
  {
   "cell_type": "code",
   "execution_count": 61,
   "metadata": {
    "collapsed": true
   },
   "outputs": [],
   "source": [
    "# 标准化\n",
    "train_set_x = train_set_x_flatten/255\n",
    "test_set_x = train_set_x_flatten/255"
   ]
  },
  {
   "cell_type": "code",
   "execution_count": 62,
   "metadata": {
    "collapsed": true
   },
   "outputs": [],
   "source": [
    "'''\n",
    "构建神经网络的主要步骤是：\n",
    "1.定义模型结构（例如输入特征的数量）\n",
    "2.初始化模型参数\n",
    "3.循环\n",
    "    3.1 计算当前损失（正向传播）\n",
    "    3.2 计算当前梯度（反向传播）\n",
    "    3.3 更新参数（梯度下降）\n",
    "'''\n",
    "# 定义sigmoid函数\n",
    "def sigmoid(z):\n",
    "    '''\n",
    "    参数：\n",
    "        z 任何大小的标量或数组\n",
    "    返回：\n",
    "        s sigmoid（s）\n",
    "    '''\n",
    "    s = 1 / (1 + np.exp(-z))\n",
    "    return s"
   ]
  },
  {
   "cell_type": "code",
   "execution_count": 63,
   "metadata": {},
   "outputs": [
    {
     "name": "stdout",
     "output_type": "stream",
     "text": [
      "==================测试sigmoid函数====================\n",
      "sigmoid(0)=0.5\n",
      "sigmoid(9.2)=0.999898970806\n"
     ]
    }
   ],
   "source": [
    "# 测试sigmoid\n",
    "print(\"==================测试sigmoid函数====================\")\n",
    "print(\"sigmoid(0)=\"+str(sigmoid(0)))\n",
    "print(\"sigmoid(9.2)=\"+str(sigmoid(9.2)))"
   ]
  },
  {
   "cell_type": "code",
   "execution_count": 66,
   "metadata": {},
   "outputs": [],
   "source": [
    "def initialize_with_zeros(dim):    \n",
    "    \"\"\"\n",
    "    此函数为w创建一个维度为（dim， 1）的向量，并将b初始化为0。\n",
    "    \n",
    "    参数：\n",
    "        dim 目标矢量大小\n",
    "        \n",
    "    返回：\n",
    "        w 维度为（dim， 1）的初始化向量\n",
    "        b 初始化标量（偏差）\n",
    "    \"\"\"\n",
    "    w = np.zeros(shape = (dim, 1))\n",
    "    b = 0\n",
    "    # 使用断言进行测试\n",
    "    assert(w.shape == (dim, 1))\n",
    "    assert(isinstance(b, float) or isinstance(b, int))\n",
    "    return (w, b)"
   ]
  },
  {
   "cell_type": "code",
   "execution_count": 67,
   "metadata": {
    "collapsed": true
   },
   "outputs": [],
   "source": [
    "def propagate(w, b, X, Y):\n",
    "    \"\"\"\n",
    "    实现前向传播和后向传播的成本函数与梯度运算\n",
    "    参数：\n",
    "        w 权值参数\n",
    "        b 偏置参数，标量\n",
    "        X 矩阵（num_px*num_px*3, 训练数量）\n",
    "        Y 标签矢量\n",
    "    返回：\n",
    "        cost 逻辑回归的负对数似然成本\n",
    "        dw 相对于w的损失梯度，和w的形状相同\n",
    "        db 相对于b的损失梯度，和b的形状相同\n",
    "    \"\"\"\n",
    "    m = X.shape[1] #训练数量\n",
    "    \n",
    "    # 正向传播\n",
    "    A = sigmoid(np.dot(w.T, X) + b) #计算激活值\n",
    "    cost = (-1 / m) * np.sum(Y * np.log(A) + (1 - Y) * np.log(1 - A)) #计算损失\n",
    "    \n",
    "    # 反向传播\n",
    "    dw = (1 / m) * np.dot(X, (A - Y).T)\n",
    "    db = (1 / m) * np.sum(A - Y)\n",
    "    \n",
    "    # 断言测试\n",
    "    assert(dw.shape == w.shape)\n",
    "    assert(db.dtype == float)\n",
    "    cost = np.squeeze(cost)\n",
    "    assert(cost.shape == ())\n",
    "    \n",
    "    # 创建一个字典保存dw和db\n",
    "    grads = {\n",
    "                \"dw\": dw,\n",
    "                \"db\": db\n",
    "    }\n",
    "    return (grads, cost)"
   ]
  },
  {
   "cell_type": "code",
   "execution_count": 68,
   "metadata": {},
   "outputs": [
    {
     "name": "stdout",
     "output_type": "stream",
     "text": [
      "======================测试propagate========================\n",
      "dw=[[ 0.99993216]\n",
      " [ 1.99980262]]\n",
      "db=0.499935230625\n",
      "cost=6.00006477319\n"
     ]
    }
   ],
   "source": [
    "# 测试propagate\n",
    "print(\"======================测试propagate========================\")\n",
    "# 初始化参数\n",
    "w, b, X, Y = np.array([[1], [2]]), 2, np.array([[1, 2], [3, 4]]), np.array([[1, 0]])\n",
    "grads, cost = propagate(w, b, X, Y)\n",
    "print(\"dw=\"+str(grads[\"dw\"]))\n",
    "print(\"db=\"+str(grads[\"db\"]))\n",
    "print(\"cost=\"+str(cost))"
   ]
  },
  {
   "cell_type": "code",
   "execution_count": 75,
   "metadata": {
    "collapsed": true
   },
   "outputs": [],
   "source": [
    "def optimize(w, b, X, Y, num_iterations, learning_rate, print_cost = False):\n",
    "    \"\"\"\n",
    "    此函数通过梯度下降法来优化w和b\n",
    "    \n",
    "    参数：\n",
    "        w 权重，大小不等的数组（num_px*num_px*3, 1）\n",
    "        b 偏差，一个标量\n",
    "        X 维度为（num_px*num_px*3, 1）\n",
    "        Y 真正的“标签”矢量（如果非猫则为0，如果是猫则为1），矩阵维度为(1,训练数据的数量)\n",
    "        num_iterations 迭代次数\n",
    "        learning_rate 学习率\n",
    "        print_cost 是否输出损失值\n",
    "        \n",
    "    返回：\n",
    "        params 包含权重w和偏置b的字典\n",
    "        grads 包含权重w和偏差b相对于成本函数的梯度的字典\n",
    "        costs 优化期间计算所有的成本列表，用于绘制学习曲线\n",
    "        \n",
    "    提示：\n",
    "    我们需要写下两个步骤并遍历它们：\n",
    "        1）计算当前参数的成本和梯度，使用propagate（）。\n",
    "        2）使用w和b的梯度下降法则更新参数。\n",
    "    \"\"\"\n",
    "    \n",
    "    costs = []\n",
    "    \n",
    "    for i in range(num_iterations):\n",
    "        \n",
    "        grads, cost = propagate(w, b, X, Y)\n",
    "        \n",
    "        dw = grads[\"dw\"]\n",
    "        db = grads[\"db\"]\n",
    "        \n",
    "        w = w - learning_rate*dw\n",
    "        b = b - learning_rate*db \n",
    "        \n",
    "        # 记录成本\n",
    "        if i % 100 == 0:\n",
    "            costs.append(cost)\n",
    "        # 打印成本数据\n",
    "        if (print_cost) and (i%100 == 0):\n",
    "            print(\"迭代的次数：%i ， 误差值为：%f\"%(i, cost))\n",
    "    params = {\n",
    "                 \"w\": w,\n",
    "                 \"b\": b\n",
    "        }\n",
    "    grads = {\n",
    "                \"dw\": dw,\n",
    "                \"db\": db\n",
    "        }\n",
    "    \n",
    "    return (params, grads, costs)"
   ]
  },
  {
   "cell_type": "code",
   "execution_count": 76,
   "metadata": {
    "scrolled": true
   },
   "outputs": [
    {
     "name": "stdout",
     "output_type": "stream",
     "text": [
      "==================测试optimize====================\n",
      "w=[[ 0.1124579 ]\n",
      " [ 0.23106775]]\n",
      "b=1.55930492484\n",
      "dw=[[ 0.90158428]\n",
      " [ 1.76250842]]\n",
      "db=0.430462071679\n"
     ]
    }
   ],
   "source": [
    "# 测试optimize\n",
    "print(\"==================测试optimize====================\")\n",
    "w, b, X, Y = np.array([[1], [2]]), 2, np.array([[1, 2], [3, 4]]), np.array([[1, 0]])\n",
    "params, grads, costs = optimize(w, b, X, Y, num_iterations=100, learning_rate=0.009, print_cost=False)\n",
    "print(\"w=\"+str(params[\"w\"]))\n",
    "print(\"b=\"+str(params[\"b\"]))\n",
    "print(\"dw=\"+str(grads[\"dw\"]))\n",
    "print(\"db=\"+str(grads[\"db\"]))"
   ]
  },
  {
   "cell_type": "code",
   "execution_count": 77,
   "metadata": {
    "collapsed": true
   },
   "outputs": [],
   "source": [
    "def predict(w, b, X):\n",
    "    \"\"\"\n",
    "    使用逻辑回归参数logistic(w, b)预测标签是0还是1\n",
    "    \n",
    "    参数：\n",
    "        w 权重，大小不等的数组（num_px*num_px*3, 1）\n",
    "        b 偏差，一个标量\n",
    "        X 维度为(num_px*num_px*3, 训练数据数量)的数据\n",
    "        \n",
    "    返回：\n",
    "        Y_predict 包含X中所有图片预测的一个numpy数组（向量）\n",
    "    \"\"\"\n",
    "    m = X.shape[1]\n",
    "    Y_prediction = np.zeros((1, m))\n",
    "    w = w.reshape(X.shape[0], 1)\n",
    "    \n",
    "    # 计算猫在图片中出现的概率\n",
    "    A = sigmoid(np.dot(w.T, X) + b)\n",
    "    for i in range(A.shape[1]):\n",
    "        # 将概率a[0, i]转换为实际预测p[0, i]\n",
    "        Y_prediction[0, i] = 1 if A[0, i] > 0.5 else 0\n",
    "    \n",
    "    # 使用断言\n",
    "    assert(Y_prediction.shape == (1, m))\n",
    "    \n",
    "    return Y_prediction"
   ]
  },
  {
   "cell_type": "code",
   "execution_count": 78,
   "metadata": {},
   "outputs": [
    {
     "name": "stdout",
     "output_type": "stream",
     "text": [
      "====================测试predict====================\n",
      "predictions = [[ 1.  1.]]\n"
     ]
    }
   ],
   "source": [
    "# 测试predict\n",
    "print(\"====================测试predict====================\")\n",
    "w, b, X, Y = np.array([[1], [2]]), 2, np.array([[1,2], [3,4]]), np.array([[1, 0]])\n",
    "print(\"predictions = \" + str(predict(w, b, X)))"
   ]
  },
  {
   "cell_type": "code",
   "execution_count": 79,
   "metadata": {
    "collapsed": true
   },
   "outputs": [],
   "source": [
    "# 将所有部分整合到一个model中，包括初始化参数initialize_with_zeros(),优化函数optimize,预测函数predict\n",
    "def model(X_train, Y_train, X_test, Y_test, num_iterations = 2000, learning_rate = 0.05, print_cost = False):\n",
    "    \"\"\"\n",
    "    参数说明：\n",
    "        X_train 训练集 维度为（num_px*num_px*3, m_train）的numpy数组\n",
    "        Y_train 训练集标签 维度为（1, m_train）的numpy数组\n",
    "        X_test 测试集 维度为(num_px*num_px*3, m_test)的numpy数组\n",
    "        Y_test 测试集标签 维度为（1, m_test）的numpy数组\n",
    "        num_iterations 迭代次数\n",
    "        learning_rate 学习率\n",
    "        print_cost 是否输出损失值\n",
    "    \"\"\"\n",
    "    w, b = initialize_with_zeros(X_train.shape[0])\n",
    "    \n",
    "    parameters, grads, costs = optimize(w, b, X_train, Y_train, num_iterations, learning_rate, print_cost)\n",
    "    \n",
    "    # 取出参数w和b\n",
    "    w, b = parameters[\"w\"], parameters[\"b\"]\n",
    "    \n",
    "    # 预测测试\n",
    "    Y_prediction_test = predict(w, b, X_test)\n",
    "    Y_prediction_train = predict(w, b, X_train)\n",
    "    \n",
    "    # 打印测试结果\n",
    "    print(\"训练集准确性：\", format(100 - np.mean(np.abs(Y_prediction_train - Y_train))*100), \"%\") # np.abs() 计算绝对值\n",
    "    print(\"测试集准确性：\", format(100 - np.mean(np.abs(Y_prediction_test - Y_test))*100), \"%\")\n",
    "    \n",
    "    d = {\n",
    "            \"costs\" : costs,\n",
    "            \"Y_prediction_test\" : Y_prediction_test,\n",
    "            \"Y_prediciton_train\" : Y_prediction_train,\n",
    "            \"w\" : w,\n",
    "            \"b\" : b,\n",
    "            \"learning_rate\" : learning_rate,\n",
    "            \"num_iterations\" : num_iterations }\n",
    "    return d"
   ]
  },
  {
   "cell_type": "code",
   "execution_count": 87,
   "metadata": {},
   "outputs": [
    {
     "name": "stdout",
     "output_type": "stream",
     "text": [
      "====================测试model====================\n",
      "迭代的次数：0 ， 误差值为：0.693147\n",
      "迭代的次数：100 ， 误差值为：0.823921\n",
      "迭代的次数：200 ， 误差值为：0.418944\n",
      "迭代的次数：300 ， 误差值为：0.617350\n",
      "迭代的次数：400 ， 误差值为：0.522116\n",
      "迭代的次数：500 ， 误差值为：0.387709\n",
      "迭代的次数：600 ， 误差值为：0.236254\n",
      "迭代的次数：700 ， 误差值为：0.154222\n",
      "迭代的次数：800 ， 误差值为：0.135328\n",
      "迭代的次数：900 ， 误差值为：0.124971\n",
      "迭代的次数：1000 ， 误差值为：0.116478\n",
      "迭代的次数：1100 ， 误差值为：0.109193\n",
      "迭代的次数：1200 ， 误差值为：0.102804\n",
      "迭代的次数：1300 ， 误差值为：0.097130\n",
      "迭代的次数：1400 ， 误差值为：0.092043\n",
      "迭代的次数：1500 ， 误差值为：0.087453\n",
      "迭代的次数：1600 ， 误差值为：0.083286\n",
      "迭代的次数：1700 ， 误差值为：0.079487\n",
      "迭代的次数：1800 ， 误差值为：0.076007\n",
      "迭代的次数：1900 ， 误差值为：0.072809\n",
      "训练集准确性： 99.52153110047847 %\n",
      "测试集准确性： 53.734384681030505 %\n"
     ]
    }
   ],
   "source": [
    "print(\"====================测试model====================\")     \n",
    "# 这里加载的是真实的数据，请参见上面的代码部分。\n",
    "d = model(train_set_x, train_set_y, test_set_x, test_set_y, num_iterations = 2000, learning_rate = 0.01, print_cost = True)"
   ]
  },
  {
   "cell_type": "code",
   "execution_count": 88,
   "metadata": {},
   "outputs": [
    {
     "data": {
      "image/png": "[encoded data removed]",
      "text/plain": [
       "<matplotlib.figure.Figure at 0x1e6e802cc88>"
      ]
     },
     "metadata": {},
     "output_type": "display_data"
    }
   ],
   "source": [
    "# 绘制图\n",
    "costs = np.squeeze(d['costs'])\n",
    "plt.plot(costs)\n",
    "plt.ylabel('cost')\n",
    "plt.xlabel('iterations (per hundreds)')\n",
    "plt.title(\"Learning rate =\" + str(d[\"learning_rate\"]))\n",
    "plt.show()"
   ]
  },
  {
   "cell_type": "code",
   "execution_count": null,
   "metadata": {
    "collapsed": true
   },
   "outputs": [],
   "source": []
  }
 ],
 "metadata": {
  "kernelspec": {
   "display_name": "Python 3",
   "language": "python",
   "name": "python3"
  },
  "language_info": {
   "codemirror_mode": {
    "name": "ipython",
    "version": 3
   },
   "file_extension": ".py",
   "mimetype": "text/x-python",
   "name": "python",
   "nbconvert_exporter": "python",
   "pygments_lexer": "ipython3",
   "version": "3.6.2"
  }
 },
 "nbformat": 4,
 "nbformat_minor": 2
}
